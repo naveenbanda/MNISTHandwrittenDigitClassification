{
 "cells": [
  {
   "cell_type": "code",
   "execution_count": 1,
   "metadata": {
    "collapsed": true
   },
   "outputs": [],
   "source": [
    "import mnist_loader"
   ]
  },
  {
   "cell_type": "code",
   "execution_count": null,
   "metadata": {
    "collapsed": true
   },
   "outputs": [],
   "source": []
  },
  {
   "cell_type": "code",
   "execution_count": null,
   "metadata": {
    "collapsed": true
   },
   "outputs": [],
   "source": []
  },
  {
   "cell_type": "code",
   "execution_count": 2,
   "metadata": {
    "collapsed": true
   },
   "outputs": [],
   "source": [
    "training_data, validation_data, test_data =mnist_loader.load_data_wrapper()"
   ]
  },
  {
   "cell_type": "code",
   "execution_count": null,
   "metadata": {},
   "outputs": [],
   "source": []
  },
  {
   "cell_type": "code",
   "execution_count": null,
   "metadata": {
    "collapsed": true
   },
   "outputs": [],
   "source": [
    "print (test_data)"
   ]
  },
  {
   "cell_type": "code",
   "execution_count": null,
   "metadata": {
    "collapsed": true
   },
   "outputs": [],
   "source": []
  },
  {
   "cell_type": "code",
   "execution_count": null,
   "metadata": {
    "collapsed": true
   },
   "outputs": [],
   "source": []
  },
  {
   "cell_type": "code",
   "execution_count": 3,
   "metadata": {
    "collapsed": true
   },
   "outputs": [],
   "source": [
    "import network"
   ]
  },
  {
   "cell_type": "code",
   "execution_count": null,
   "metadata": {
    "collapsed": true
   },
   "outputs": [],
   "source": []
  },
  {
   "cell_type": "code",
   "execution_count": 4,
   "metadata": {
    "collapsed": true,
    "scrolled": true
   },
   "outputs": [],
   "source": [
    "net=network.Network([784,30,10])"
   ]
  },
  {
   "cell_type": "code",
   "execution_count": 5,
   "metadata": {},
   "outputs": [
    {
     "name": "stdout",
     "output_type": "stream",
     "text": [
      "Epoch 0: 8988 / 10000\n",
      "Epoch 1: 9154 / 10000\n",
      "Epoch 2: 9275 / 10000\n",
      "Epoch 3: 9240 / 10000\n",
      "Epoch 4: 9315 / 10000\n",
      "Epoch 5: 9354 / 10000\n",
      "Epoch 6: 9356 / 10000\n",
      "Epoch 7: 9382 / 10000\n",
      "Epoch 8: 9373 / 10000\n",
      "Epoch 9: 9413 / 10000\n",
      "Epoch 10: 9436 / 10000\n",
      "Epoch 11: 9433 / 10000\n",
      "Epoch 12: 9429 / 10000\n",
      "Epoch 13: 9439 / 10000\n",
      "Epoch 14: 9478 / 10000\n",
      "Epoch 15: 9436 / 10000\n",
      "Epoch 16: 9487 / 10000\n",
      "Epoch 17: 9451 / 10000\n",
      "Epoch 18: 9472 / 10000\n",
      "Epoch 19: 9435 / 10000\n",
      "Epoch 20: 9472 / 10000\n",
      "Epoch 21: 9472 / 10000\n",
      "Epoch 22: 9481 / 10000\n",
      "Epoch 23: 9464 / 10000\n",
      "Epoch 24: 9485 / 10000\n",
      "Epoch 25: 9491 / 10000\n",
      "Epoch 26: 9489 / 10000\n",
      "Epoch 27: 9479 / 10000\n",
      "Epoch 28: 9487 / 10000\n",
      "Epoch 29: 9487 / 10000\n"
     ]
    }
   ],
   "source": [
    "net.SGD(training_data, 30, 10, 3.0, test_data=test_data)"
   ]
  },
  {
   "cell_type": "code",
   "execution_count": null,
   "metadata": {
    "collapsed": true
   },
   "outputs": [],
   "source": []
  },
  {
   "cell_type": "code",
   "execution_count": null,
   "metadata": {
    "collapsed": true
   },
   "outputs": [],
   "source": []
  },
  {
   "cell_type": "code",
   "execution_count": null,
   "metadata": {
    "collapsed": true
   },
   "outputs": [],
   "source": []
  },
  {
   "cell_type": "code",
   "execution_count": null,
   "metadata": {
    "collapsed": true
   },
   "outputs": [],
   "source": []
  },
  {
   "cell_type": "code",
   "execution_count": null,
   "metadata": {
    "collapsed": true
   },
   "outputs": [],
   "source": []
  }
 ],
 "metadata": {
  "kernelspec": {
   "display_name": "Python 2",
   "language": "python",
   "name": "python2"
  },
  "language_info": {
   "codemirror_mode": {
    "name": "ipython",
    "version": 2
   },
   "file_extension": ".py",
   "mimetype": "text/x-python",
   "name": "python",
   "nbconvert_exporter": "python",
   "pygments_lexer": "ipython2",
   "version": "2.7.12"
  }
 },
 "nbformat": 4,
 "nbformat_minor": 2
}
